{
 "cells": [
  {
   "cell_type": "code",
   "execution_count": 1,
   "id": "6431b0f6",
   "metadata": {},
   "outputs": [],
   "source": [
    "import pandas as pd\n",
    "from jupyter_dash import JupyterDash\n",
    "import dash\n",
    "from dash import html, dcc\n",
    "from dash.dependencies import Input, Output, State\n",
    "import plotly.graph_objects as go\n",
    "import plotly.express as px\n",
    "from dash import no_update"
   ]
  },
  {
   "cell_type": "code",
   "execution_count": 2,
   "id": "fcc9c72a",
   "metadata": {},
   "outputs": [],
   "source": [
    "# Create a dash application\n",
    "app = JupyterDash(__name__)"
   ]
  },
  {
   "cell_type": "code",
   "execution_count": 3,
   "id": "97e9b83b",
   "metadata": {},
   "outputs": [],
   "source": [
    "# REVIEW1: Clear the layout and do not display exception till callback gets executed\n",
    "app.config.suppress_callback_exceptions = True"
   ]
  },
  {
   "cell_type": "code",
   "execution_count": 4,
   "id": "f34a5292",
   "metadata": {},
   "outputs": [],
   "source": [
    "# Read the automobiles data into pandas dataframe\n",
    "auto_data =  pd.read_csv('automobileEDA.csv', \n",
    "                            encoding = \"ISO-8859-1\",\n",
    "                            )"
   ]
  },
  {
   "cell_type": "code",
   "execution_count": 5,
   "id": "67131e8b",
   "metadata": {},
   "outputs": [],
   "source": [
    "#Layout Section of Dash\n",
    "app.layout = html.Div(children=[\n",
    "    html.H1('Car Automobile Components', style={'textAlign': 'center', 'color': '#503D36', 'font-size': 24}),\n",
    "    html.Div([\n",
    "        html.Div(\n",
    "            html.H2('Drive Wheels Type:', style={'margin-right': '2em'})\n",
    "        ),\n",
    "        dcc.Dropdown(\n",
    "            id='demo-dropdown',\n",
    "            options=[\n",
    "                {'label': 'Rear Wheel Drive', 'value': 'rwd'},\n",
    "                {'label': 'Front Wheel Drive', 'value': 'fwd'},\n",
    "                {'label': 'Four Wheel Drive', 'value': '4wd'}\n",
    "            ],\n",
    "            value='rwd'\n",
    "        )\n",
    "    ]),\n",
    "    html.Div([\n",
    "        html.Div([], id='plot1'),\n",
    "        html.Div([], id='plot2')\n",
    "    ], style={'display': 'flex'})\n",
    "])"
   ]
  },
  {
   "cell_type": "markdown",
   "id": "1c7ac3dc",
   "metadata": {},
   "source": [
    "\n",
    "#Place to add @app.callback Decorator\n",
    "@app.callback([\n",
    "               Output(component_id='plot1', component_property='children'),\n",
    "               Output(component_id='plot2', component_property='children')\n",
    "               ],\n",
    "               Input(component_id='demo-dropdown', component_property='value'))\n"
   ]
  },
  {
   "cell_type": "code",
   "execution_count": 12,
   "id": "1e975a30",
   "metadata": {},
   "outputs": [
    {
     "ename": "SyntaxError",
     "evalue": "unexpected EOF while parsing (3887089753.py, line 3)",
     "output_type": "error",
     "traceback": [
      "\u001b[1;36m  Cell \u001b[1;32mIn[12], line 3\u001b[1;36m\u001b[0m\n\u001b[1;33m    Input(component_id='demo-dropdown', component_property='value'))\u001b[0m\n\u001b[1;37m                                                                    ^\u001b[0m\n\u001b[1;31mSyntaxError\u001b[0m\u001b[1;31m:\u001b[0m unexpected EOF while parsing\n"
     ]
    }
   ],
   "source": [
    "@app.callback([Output(component_id='plot1', component_property='children'),\n",
    "               Output(component_id='plot2', component_property='children')],\n",
    "               Input(component_id='demo-dropdown', component_property='value'))"
   ]
  },
  {
   "cell_type": "code",
   "execution_count": null,
   "id": "f93a525a",
   "metadata": {},
   "outputs": [],
   "source": [
    "#Place to define the callback function .\n",
    "def display_selected_drive_charts(value):\n",
    "   \n",
    "   \n",
    "   filtered_df = auto_data[auto_data['drive-wheels']==value].groupby(['drive-wheels','body-style'],as_index=False). \\\n",
    "            mean()\n",
    "        \n",
    "   filtered_df = filtered_df\n",
    "   \n",
    "   fig1 = px.pie(filtered_df, values='price', names='body-style', title=\"Pie Chart\")\n",
    "   fig2 = px.bar(filtered_df, x='body-style', y='price', title='Bar Chart')\n",
    "    \n",
    "   return [dcc.Graph(figure=fig1),\n",
    "            dcc.Graph(figure=fig2) ]"
   ]
  },
  {
   "cell_type": "code",
   "execution_count": null,
   "id": "ea9290af",
   "metadata": {},
   "outputs": [],
   "source": [
    "if __name__ == '__main__':\n",
    "    app.run_server(mode='inline')"
   ]
  },
  {
   "cell_type": "code",
   "execution_count": null,
   "id": "acb0c78a",
   "metadata": {},
   "outputs": [],
   "source": []
  },
  {
   "cell_type": "code",
   "execution_count": null,
   "id": "408266e8",
   "metadata": {},
   "outputs": [],
   "source": []
  }
 ],
 "metadata": {
  "kernelspec": {
   "display_name": "Python 3 (ipykernel)",
   "language": "python",
   "name": "python3"
  },
  "language_info": {
   "codemirror_mode": {
    "name": "ipython",
    "version": 3
   },
   "file_extension": ".py",
   "mimetype": "text/x-python",
   "name": "python",
   "nbconvert_exporter": "python",
   "pygments_lexer": "ipython3",
   "version": "3.8.16"
  }
 },
 "nbformat": 4,
 "nbformat_minor": 5
}
